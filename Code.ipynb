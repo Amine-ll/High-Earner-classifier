{
 "cells": [
  {
   "cell_type": "code",
   "execution_count": 1,
   "metadata": {},
   "outputs": [],
   "source": [
    "import numpy as np\n",
    "import pandas as pd\n",
    "%matplotlib inline\n",
    "import matplotlib.pyplot as plt\n",
    "import matplotlib as mpl\n",
    "import seaborn as sns; sns.set()\n",
    "import scipy.stats as stats\n",
    "from sklearn import preprocessing, linear_model, model_selection, neighbors, svm, naive_bayes, metrics"
   ]
  },
  {
   "cell_type": "markdown",
   "metadata": {},
   "source": [
    "# Importing data"
   ]
  },
  {
   "cell_type": "code",
   "execution_count": 2,
   "metadata": {},
   "outputs": [],
   "source": [
    "df=pd.read_csv('../Datasets/High Earner.csv')"
   ]
  },
  {
   "cell_type": "markdown",
   "metadata": {},
   "source": [
    "# Data Exploration and Preparation "
   ]
  },
  {
   "cell_type": "markdown",
   "metadata": {},
   "source": [
    "## 1. Exploring data structure and content"
   ]
  },
  {
   "cell_type": "code",
   "execution_count": 3,
   "metadata": {
    "scrolled": true
   },
   "outputs": [
    {
     "data": {
      "text/html": [
       "<div>\n",
       "<style scoped>\n",
       "    .dataframe tbody tr th:only-of-type {\n",
       "        vertical-align: middle;\n",
       "    }\n",
       "\n",
       "    .dataframe tbody tr th {\n",
       "        vertical-align: top;\n",
       "    }\n",
       "\n",
       "    .dataframe thead th {\n",
       "        text-align: right;\n",
       "    }\n",
       "</style>\n",
       "<table border=\"1\" class=\"dataframe\">\n",
       "  <thead>\n",
       "    <tr style=\"text-align: right;\">\n",
       "      <th></th>\n",
       "      <th>age</th>\n",
       "      <th>employer type</th>\n",
       "      <th>educational level</th>\n",
       "      <th>marital status</th>\n",
       "      <th>job type</th>\n",
       "      <th>relationship status</th>\n",
       "      <th>ethnicity</th>\n",
       "      <th>sex</th>\n",
       "      <th>capital gains</th>\n",
       "      <th>capital losses</th>\n",
       "      <th>hours worked per week</th>\n",
       "      <th>country of birth</th>\n",
       "      <th>high income?</th>\n",
       "    </tr>\n",
       "  </thead>\n",
       "  <tbody>\n",
       "    <tr>\n",
       "      <th>0</th>\n",
       "      <td>56</td>\n",
       "      <td>Private</td>\n",
       "      <td>14</td>\n",
       "      <td>Married-civ-spouse</td>\n",
       "      <td>Exec-managerial</td>\n",
       "      <td>Husband</td>\n",
       "      <td>White</td>\n",
       "      <td>Male</td>\n",
       "      <td>0</td>\n",
       "      <td>0</td>\n",
       "      <td>40</td>\n",
       "      <td>United-States</td>\n",
       "      <td>No</td>\n",
       "    </tr>\n",
       "    <tr>\n",
       "      <th>1</th>\n",
       "      <td>46</td>\n",
       "      <td>Private</td>\n",
       "      <td>11</td>\n",
       "      <td>Divorced</td>\n",
       "      <td>Adm-clerical</td>\n",
       "      <td>Not-in-family</td>\n",
       "      <td>White</td>\n",
       "      <td>Female</td>\n",
       "      <td>0</td>\n",
       "      <td>0</td>\n",
       "      <td>40</td>\n",
       "      <td>United-States</td>\n",
       "      <td>No</td>\n",
       "    </tr>\n",
       "    <tr>\n",
       "      <th>2</th>\n",
       "      <td>50</td>\n",
       "      <td>?</td>\n",
       "      <td>9</td>\n",
       "      <td>Married-civ-spouse</td>\n",
       "      <td>?</td>\n",
       "      <td>Husband</td>\n",
       "      <td>Black</td>\n",
       "      <td>Male</td>\n",
       "      <td>0</td>\n",
       "      <td>0</td>\n",
       "      <td>40</td>\n",
       "      <td>United-States</td>\n",
       "      <td>No</td>\n",
       "    </tr>\n",
       "  </tbody>\n",
       "</table>\n",
       "</div>"
      ],
      "text/plain": [
       "   age employer type  educational level      marital status         job type  \\\n",
       "0   56       Private                 14  Married-civ-spouse  Exec-managerial   \n",
       "1   46       Private                 11            Divorced     Adm-clerical   \n",
       "2   50             ?                  9  Married-civ-spouse                ?   \n",
       "\n",
       "  relationship status ethnicity     sex  capital gains  capital losses  \\\n",
       "0             Husband     White    Male              0               0   \n",
       "1       Not-in-family     White  Female              0               0   \n",
       "2             Husband     Black    Male              0               0   \n",
       "\n",
       "   hours worked per week country of birth high income?  \n",
       "0                     40    United-States           No  \n",
       "1                     40    United-States           No  \n",
       "2                     40    United-States           No  "
      ]
     },
     "execution_count": 3,
     "metadata": {},
     "output_type": "execute_result"
    }
   ],
   "source": [
    "df.head(3)"
   ]
  },
  {
   "cell_type": "code",
   "execution_count": 4,
   "metadata": {},
   "outputs": [
    {
     "name": "stdout",
     "output_type": "stream",
     "text": [
      "<class 'pandas.core.frame.DataFrame'>\n",
      "RangeIndex: 32561 entries, 0 to 32560\n",
      "Data columns (total 13 columns):\n",
      "age                      32561 non-null int64\n",
      "employer type            32561 non-null object\n",
      "educational level        32561 non-null int64\n",
      "marital status           32561 non-null object\n",
      "job type                 32561 non-null object\n",
      "relationship status      32561 non-null object\n",
      "ethnicity                32561 non-null object\n",
      "sex                      32561 non-null object\n",
      "capital gains            32561 non-null int64\n",
      "capital losses           32561 non-null int64\n",
      "hours worked per week    32561 non-null int64\n",
      "country of birth         32561 non-null object\n",
      "high income?             32561 non-null object\n",
      "dtypes: int64(5), object(8)\n",
      "memory usage: 3.2+ MB\n"
     ]
    }
   ],
   "source": [
    "df.info()"
   ]
  },
  {
   "cell_type": "code",
   "execution_count": 5,
   "metadata": {},
   "outputs": [
    {
     "data": {
      "text/html": [
       "<div>\n",
       "<style scoped>\n",
       "    .dataframe tbody tr th:only-of-type {\n",
       "        vertical-align: middle;\n",
       "    }\n",
       "\n",
       "    .dataframe tbody tr th {\n",
       "        vertical-align: top;\n",
       "    }\n",
       "\n",
       "    .dataframe thead th {\n",
       "        text-align: right;\n",
       "    }\n",
       "</style>\n",
       "<table border=\"1\" class=\"dataframe\">\n",
       "  <thead>\n",
       "    <tr style=\"text-align: right;\">\n",
       "      <th></th>\n",
       "      <th>age</th>\n",
       "      <th>employer type</th>\n",
       "      <th>educational level</th>\n",
       "      <th>marital status</th>\n",
       "      <th>job type</th>\n",
       "      <th>relationship status</th>\n",
       "      <th>ethnicity</th>\n",
       "      <th>sex</th>\n",
       "      <th>capital gains</th>\n",
       "      <th>capital losses</th>\n",
       "      <th>hours worked per week</th>\n",
       "      <th>country of birth</th>\n",
       "      <th>high income?</th>\n",
       "    </tr>\n",
       "  </thead>\n",
       "  <tbody>\n",
       "    <tr>\n",
       "      <th>count</th>\n",
       "      <td>32561.000000</td>\n",
       "      <td>32561</td>\n",
       "      <td>32561.000000</td>\n",
       "      <td>32561</td>\n",
       "      <td>32561</td>\n",
       "      <td>32561</td>\n",
       "      <td>32561</td>\n",
       "      <td>32561</td>\n",
       "      <td>32561.000000</td>\n",
       "      <td>32561.000000</td>\n",
       "      <td>32561.000000</td>\n",
       "      <td>32561</td>\n",
       "      <td>32561</td>\n",
       "    </tr>\n",
       "    <tr>\n",
       "      <th>unique</th>\n",
       "      <td>NaN</td>\n",
       "      <td>9</td>\n",
       "      <td>NaN</td>\n",
       "      <td>7</td>\n",
       "      <td>15</td>\n",
       "      <td>6</td>\n",
       "      <td>5</td>\n",
       "      <td>2</td>\n",
       "      <td>NaN</td>\n",
       "      <td>NaN</td>\n",
       "      <td>NaN</td>\n",
       "      <td>42</td>\n",
       "      <td>2</td>\n",
       "    </tr>\n",
       "    <tr>\n",
       "      <th>top</th>\n",
       "      <td>NaN</td>\n",
       "      <td>Private</td>\n",
       "      <td>NaN</td>\n",
       "      <td>Married-civ-spouse</td>\n",
       "      <td>Prof-specialty</td>\n",
       "      <td>Husband</td>\n",
       "      <td>White</td>\n",
       "      <td>Male</td>\n",
       "      <td>NaN</td>\n",
       "      <td>NaN</td>\n",
       "      <td>NaN</td>\n",
       "      <td>United-States</td>\n",
       "      <td>No</td>\n",
       "    </tr>\n",
       "    <tr>\n",
       "      <th>freq</th>\n",
       "      <td>NaN</td>\n",
       "      <td>22696</td>\n",
       "      <td>NaN</td>\n",
       "      <td>14976</td>\n",
       "      <td>4140</td>\n",
       "      <td>13193</td>\n",
       "      <td>27816</td>\n",
       "      <td>21790</td>\n",
       "      <td>NaN</td>\n",
       "      <td>NaN</td>\n",
       "      <td>NaN</td>\n",
       "      <td>29170</td>\n",
       "      <td>24720</td>\n",
       "    </tr>\n",
       "    <tr>\n",
       "      <th>mean</th>\n",
       "      <td>38.581647</td>\n",
       "      <td>NaN</td>\n",
       "      <td>10.080679</td>\n",
       "      <td>NaN</td>\n",
       "      <td>NaN</td>\n",
       "      <td>NaN</td>\n",
       "      <td>NaN</td>\n",
       "      <td>NaN</td>\n",
       "      <td>1077.648844</td>\n",
       "      <td>87.303830</td>\n",
       "      <td>40.437456</td>\n",
       "      <td>NaN</td>\n",
       "      <td>NaN</td>\n",
       "    </tr>\n",
       "    <tr>\n",
       "      <th>std</th>\n",
       "      <td>13.640433</td>\n",
       "      <td>NaN</td>\n",
       "      <td>2.572720</td>\n",
       "      <td>NaN</td>\n",
       "      <td>NaN</td>\n",
       "      <td>NaN</td>\n",
       "      <td>NaN</td>\n",
       "      <td>NaN</td>\n",
       "      <td>7385.292085</td>\n",
       "      <td>402.960219</td>\n",
       "      <td>12.347429</td>\n",
       "      <td>NaN</td>\n",
       "      <td>NaN</td>\n",
       "    </tr>\n",
       "    <tr>\n",
       "      <th>min</th>\n",
       "      <td>17.000000</td>\n",
       "      <td>NaN</td>\n",
       "      <td>1.000000</td>\n",
       "      <td>NaN</td>\n",
       "      <td>NaN</td>\n",
       "      <td>NaN</td>\n",
       "      <td>NaN</td>\n",
       "      <td>NaN</td>\n",
       "      <td>0.000000</td>\n",
       "      <td>0.000000</td>\n",
       "      <td>1.000000</td>\n",
       "      <td>NaN</td>\n",
       "      <td>NaN</td>\n",
       "    </tr>\n",
       "    <tr>\n",
       "      <th>25%</th>\n",
       "      <td>28.000000</td>\n",
       "      <td>NaN</td>\n",
       "      <td>9.000000</td>\n",
       "      <td>NaN</td>\n",
       "      <td>NaN</td>\n",
       "      <td>NaN</td>\n",
       "      <td>NaN</td>\n",
       "      <td>NaN</td>\n",
       "      <td>0.000000</td>\n",
       "      <td>0.000000</td>\n",
       "      <td>40.000000</td>\n",
       "      <td>NaN</td>\n",
       "      <td>NaN</td>\n",
       "    </tr>\n",
       "    <tr>\n",
       "      <th>50%</th>\n",
       "      <td>37.000000</td>\n",
       "      <td>NaN</td>\n",
       "      <td>10.000000</td>\n",
       "      <td>NaN</td>\n",
       "      <td>NaN</td>\n",
       "      <td>NaN</td>\n",
       "      <td>NaN</td>\n",
       "      <td>NaN</td>\n",
       "      <td>0.000000</td>\n",
       "      <td>0.000000</td>\n",
       "      <td>40.000000</td>\n",
       "      <td>NaN</td>\n",
       "      <td>NaN</td>\n",
       "    </tr>\n",
       "    <tr>\n",
       "      <th>75%</th>\n",
       "      <td>48.000000</td>\n",
       "      <td>NaN</td>\n",
       "      <td>12.000000</td>\n",
       "      <td>NaN</td>\n",
       "      <td>NaN</td>\n",
       "      <td>NaN</td>\n",
       "      <td>NaN</td>\n",
       "      <td>NaN</td>\n",
       "      <td>0.000000</td>\n",
       "      <td>0.000000</td>\n",
       "      <td>45.000000</td>\n",
       "      <td>NaN</td>\n",
       "      <td>NaN</td>\n",
       "    </tr>\n",
       "    <tr>\n",
       "      <th>max</th>\n",
       "      <td>90.000000</td>\n",
       "      <td>NaN</td>\n",
       "      <td>16.000000</td>\n",
       "      <td>NaN</td>\n",
       "      <td>NaN</td>\n",
       "      <td>NaN</td>\n",
       "      <td>NaN</td>\n",
       "      <td>NaN</td>\n",
       "      <td>99999.000000</td>\n",
       "      <td>4356.000000</td>\n",
       "      <td>99.000000</td>\n",
       "      <td>NaN</td>\n",
       "      <td>NaN</td>\n",
       "    </tr>\n",
       "  </tbody>\n",
       "</table>\n",
       "</div>"
      ],
      "text/plain": [
       "                 age employer type  educational level      marital status  \\\n",
       "count   32561.000000         32561       32561.000000               32561   \n",
       "unique           NaN             9                NaN                   7   \n",
       "top              NaN       Private                NaN  Married-civ-spouse   \n",
       "freq             NaN         22696                NaN               14976   \n",
       "mean       38.581647           NaN          10.080679                 NaN   \n",
       "std        13.640433           NaN           2.572720                 NaN   \n",
       "min        17.000000           NaN           1.000000                 NaN   \n",
       "25%        28.000000           NaN           9.000000                 NaN   \n",
       "50%        37.000000           NaN          10.000000                 NaN   \n",
       "75%        48.000000           NaN          12.000000                 NaN   \n",
       "max        90.000000           NaN          16.000000                 NaN   \n",
       "\n",
       "              job type relationship status ethnicity    sex  capital gains  \\\n",
       "count            32561               32561     32561  32561   32561.000000   \n",
       "unique              15                   6         5      2            NaN   \n",
       "top     Prof-specialty             Husband     White   Male            NaN   \n",
       "freq              4140               13193     27816  21790            NaN   \n",
       "mean               NaN                 NaN       NaN    NaN    1077.648844   \n",
       "std                NaN                 NaN       NaN    NaN    7385.292085   \n",
       "min                NaN                 NaN       NaN    NaN       0.000000   \n",
       "25%                NaN                 NaN       NaN    NaN       0.000000   \n",
       "50%                NaN                 NaN       NaN    NaN       0.000000   \n",
       "75%                NaN                 NaN       NaN    NaN       0.000000   \n",
       "max                NaN                 NaN       NaN    NaN   99999.000000   \n",
       "\n",
       "        capital losses  hours worked per week country of birth high income?  \n",
       "count     32561.000000           32561.000000            32561        32561  \n",
       "unique             NaN                    NaN               42            2  \n",
       "top                NaN                    NaN    United-States           No  \n",
       "freq               NaN                    NaN            29170        24720  \n",
       "mean         87.303830              40.437456              NaN          NaN  \n",
       "std         402.960219              12.347429              NaN          NaN  \n",
       "min           0.000000               1.000000              NaN          NaN  \n",
       "25%           0.000000              40.000000              NaN          NaN  \n",
       "50%           0.000000              40.000000              NaN          NaN  \n",
       "75%           0.000000              45.000000              NaN          NaN  \n",
       "max        4356.000000              99.000000              NaN          NaN  "
      ]
     },
     "execution_count": 5,
     "metadata": {},
     "output_type": "execute_result"
    }
   ],
   "source": [
    "df.describe(include='all')"
   ]
  },
  {
   "cell_type": "code",
   "execution_count": 6,
   "metadata": {},
   "outputs": [
    {
     "name": "stdout",
     "output_type": "stream",
     "text": [
      "Counts for the column 'employer type' is: \n",
      "Private             22696\n",
      "Self-emp-not-inc     2541\n",
      "Local-gov            2093\n",
      "?                    1836\n",
      "State-gov            1298\n",
      "Self-emp-inc         1116\n",
      "Federal-gov           960\n",
      "Without-pay            14\n",
      "Never-worked            7\n",
      "Name: employer type, dtype: int64\n",
      "---------------------------------------------------------\n",
      "Counts for the column 'marital status' is: \n",
      "Married-civ-spouse       14976\n",
      "Never-married            10683\n",
      "Divorced                  4443\n",
      "Separated                 1025\n",
      "Widowed                    993\n",
      "Married-spouse-absent      418\n",
      "Married-AF-spouse           23\n",
      "Name: marital status, dtype: int64\n",
      "---------------------------------------------------------\n",
      "Counts for the column 'job type' is: \n",
      "Prof-specialty       4140\n",
      "Craft-repair         4099\n",
      "Exec-managerial      4066\n",
      "Adm-clerical         3770\n",
      "Sales                3650\n",
      "Other-service        3295\n",
      "Machine-op-inspct    2002\n",
      "?                    1843\n",
      "Transport-moving     1597\n",
      "Handlers-cleaners    1370\n",
      "Farming-fishing       994\n",
      "Tech-support          928\n",
      "Protective-serv       649\n",
      "Priv-house-serv       149\n",
      "Armed-Forces            9\n",
      "Name: job type, dtype: int64\n",
      "---------------------------------------------------------\n",
      "Counts for the column 'relationship status' is: \n",
      "Husband           13193\n",
      "Not-in-family      8305\n",
      "Own-child          5068\n",
      "Unmarried          3446\n",
      "Wife               1568\n",
      "Other-relative      981\n",
      "Name: relationship status, dtype: int64\n",
      "---------------------------------------------------------\n",
      "Counts for the column 'ethnicity' is: \n",
      "White                 27816\n",
      "Black                  3124\n",
      "Asian-Pac-Islander     1039\n",
      "Amer-Indian-Eskimo      311\n",
      "Other                   271\n",
      "Name: ethnicity, dtype: int64\n",
      "---------------------------------------------------------\n",
      "Counts for the column 'sex' is: \n",
      "Male      21790\n",
      "Female    10771\n",
      "Name: sex, dtype: int64\n",
      "---------------------------------------------------------\n",
      "Counts for the column 'country of birth' is: \n",
      "United-States                 29170\n",
      "Mexico                          643\n",
      "?                               583\n",
      "Philippines                     198\n",
      "Germany                         137\n",
      "Canada                          121\n",
      "Puerto-Rico                     114\n",
      "El-Salvador                     106\n",
      "India                           100\n",
      "Cuba                             95\n",
      "England                          90\n",
      "Jamaica                          81\n",
      "South                            80\n",
      "China                            75\n",
      "Italy                            73\n",
      "Dominican-Republic               70\n",
      "Vietnam                          67\n",
      "Guatemala                        64\n",
      "Japan                            62\n",
      "Poland                           60\n",
      "Columbia                         59\n",
      "Taiwan                           51\n",
      "Haiti                            44\n",
      "Iran                             43\n",
      "Portugal                         37\n",
      "Nicaragua                        34\n",
      "Peru                             31\n",
      "France                           29\n",
      "Greece                           29\n",
      "Ecuador                          28\n",
      "Ireland                          24\n",
      "Hong                             20\n",
      "Trinadad&Tobago                  19\n",
      "Cambodia                         19\n",
      "Thailand                         18\n",
      "Laos                             18\n",
      "Yugoslavia                       16\n",
      "Outlying-US(Guam-USVI-etc)       14\n",
      "Honduras                         13\n",
      "Hungary                          13\n",
      "Scotland                         12\n",
      "Holand-Netherlands                1\n",
      "Name: country of birth, dtype: int64\n",
      "---------------------------------------------------------\n",
      "Counts for the column 'high income?' is: \n",
      "No     24720\n",
      "Yes     7841\n",
      "Name: high income?, dtype: int64\n",
      "---------------------------------------------------------\n"
     ]
    }
   ],
   "source": [
    "#Counting the unique values for categorical columns.\n",
    "for i in [1,3,4,5,6,7,11,12]:\n",
    "    print(\"Counts for the column '\"+df.columns[i]+\"' is: \")\n",
    "    print(df.iloc[:,i].value_counts())\n",
    "    print(\"---------------------------------------------------------\")"
   ]
  },
  {
   "cell_type": "markdown",
   "metadata": {},
   "source": [
    "## 2. Visualising data"
   ]
  },
  {
   "cell_type": "markdown",
   "metadata": {},
   "source": [
    "### a. Categorical data:"
   ]
  },
  {
   "cell_type": "code",
   "execution_count": 7,
   "metadata": {},
   "outputs": [
    {
     "data": {
      "image/png": "[encoded data removed]",
      "text/plain": [
       "<Figure size 720x720 with 4 Axes>"
      ]
     },
     "metadata": {
      "needs_background": "light"
     },
     "output_type": "display_data"
    }
   ],
   "source": [
    "(_, axs) = plt.subplots(2, 2, figsize=(10,10))\n",
    "ax = df['marital status'].value_counts().plot.barh(title='marital status',color='b',fontsize=10,ax=axs[0][0])\n",
    "ax = df['relationship status'].value_counts().plot.barh(title='relationship status',color='b',fontsize=10,ax=axs[0][1])\n",
    "ax = df['ethnicity'].value_counts().plot.barh(title='ethnicity',color='b',fontsize=10,ax=axs[1][0])\n",
    "ax = df['sex'].value_counts().plot.barh(title='sex',color='b',fontsize=10,ax=axs[1][1]);\n",
    "#plt.title(\"Histograms showing counts for marital status, relationship status, ethnicity and sex\",\\\n",
    "          #fontdict={'fontsize':15},loc='right');"
   ]
  },
  {
   "cell_type": "code",
   "execution_count": 8,
   "metadata": {},
   "outputs": [
    {
     "data": {
      "image/png": "[encoded data removed]",
      "text/plain": [
       "<Figure size 1296x504 with 3 Axes>"
      ]
     },
     "metadata": {
      "needs_background": "light"
     },
     "output_type": "display_data"
    }
   ],
   "source": [
    "(_, axs) = plt.subplots(1, 3, figsize=(18,7))\n",
    "ax = df['country of birth'].value_counts().plot.barh(title='country of birth',color='b',fontsize=10,ax=axs[0])\n",
    "ax = df['employer type'].value_counts().plot.barh(title='employer type',color='b',fontsize=10,ax=axs[1])\n",
    "ax = df['job type'].value_counts().plot.barh(title='job type',color='b',fontsize=10,ax=axs[2])"
   ]
  },
  {
   "cell_type": "markdown",
   "metadata": {},
   "source": [
    "### Numeric data:"
   ]
  },
  {
   "cell_type": "code",
   "execution_count": 9,
   "metadata": {},
   "outputs": [
    {
     "name": "stderr",
     "output_type": "stream",
     "text": [
      "C:\\Users\\Amine\\Anaconda3\\lib\\site-packages\\scipy\\stats\\stats.py:1713: FutureWarning: Using a non-tuple sequence for multidimensional indexing is deprecated; use `arr[tuple(seq)]` instead of `arr[seq]`. In the future this will be interpreted as an array index, `arr[np.array(seq)]`, which will result either in an error or a different result.\n",
      "  return np.add.reduce(sorted[indexer] * weights, axis=axis) / sumval\n"
     ]
    },
    {
     "data": {
      "image/png": "[encoded data removed]",
      "text/plain": [
       "<Figure size 1152x360 with 3 Axes>"
      ]
     },
     "metadata": {
      "needs_background": "light"
     },
     "output_type": "display_data"
    }
   ],
   "source": [
    "plt.figure(figsize=(16,5))\n",
    "fig = plt.subplot(131)\n",
    "sns.distplot(df['age'],kde=True,bins=8,color='b')\n",
    "plt.title('Histogram showing age distribution',fontsize=15)\n",
    "fig = plt.subplot(132)\n",
    "sns.distplot(df['educational level'],kde_kws={\"bw\":1.2},bins=6,color='b')\n",
    "plt.title('Histogram showing education level distribution',fontsize=15)\n",
    "fig = plt.subplot(133)\n",
    "sns.distplot(df['hours worked per week'],kde_kws={\"bw\":2.8},bins=8,color='b')\n",
    "plt.title('Histogram showing hours worked \\n per week distribution',fontsize=15)\n",
    "plt.show()"
   ]
  },
  {
   "cell_type": "code",
   "execution_count": 10,
   "metadata": {},
   "outputs": [
    {
     "data": {
      "image/png": "[encoded data removed]",
      "text/plain": [
       "<Figure size 1296x432 with 2 Axes>"
      ]
     },
     "metadata": {
      "needs_background": "light"
     },
     "output_type": "display_data"
    }
   ],
   "source": [
    "plt.figure(figsize=(18,6))\n",
    "fig = plt.subplot(121)\n",
    "sns.distplot(df['capital gains'],kde=False,bins=12,color='b')\n",
    "plt.title('Histogram showing capital gains distribution',fontsize=15)\n",
    "fig = plt.subplot(122)\n",
    "sns.distplot(df['capital losses'],kde=False,bins=12,color='b')\n",
    "plt.title('Histogram showing capital losses distribution',fontsize=15)\n",
    "plt.show()"
   ]
  },
  {
   "cell_type": "markdown",
   "metadata": {},
   "source": [
    "# 3. Missing data"
   ]
  },
  {
   "cell_type": "markdown",
   "metadata": {},
   "source": [
    "## Investigating and identifying missing data"
   ]
  },
  {
   "cell_type": "code",
   "execution_count": 11,
   "metadata": {},
   "outputs": [
    {
     "data": {
      "text/plain": [
       "age                      0\n",
       "employer type            0\n",
       "educational level        0\n",
       "marital status           0\n",
       "job type                 0\n",
       "relationship status      0\n",
       "ethnicity                0\n",
       "sex                      0\n",
       "capital gains            0\n",
       "capital losses           0\n",
       "hours worked per week    0\n",
       "country of birth         0\n",
       "high income?             0\n",
       "dtype: int64"
      ]
     },
     "execution_count": 11,
     "metadata": {},
     "output_type": "execute_result"
    }
   ],
   "source": [
    "df.isnull().sum()\n",
    "#I can notice that there are no \"None/NaN\" data in this df. "
   ]
  },
  {
   "cell_type": "code",
   "execution_count": 12,
   "metadata": {},
   "outputs": [
    {
     "data": {
      "text/plain": [
       "(array(['NO'], dtype='<U3'), array([423293], dtype=int64))"
      ]
     },
     "execution_count": 12,
     "metadata": {},
     "output_type": "execute_result"
    }
   ],
   "source": [
    "Empty=np.where(df.applymap(lambda x: x==''),'YES','NO')\n",
    "np.unique(Empty,return_counts=True)\n",
    "#I can notice that there are no empty entries/values in this df. "
   ]
  },
  {
   "cell_type": "code",
   "execution_count": 13,
   "metadata": {},
   "outputs": [
    {
     "data": {
      "text/plain": [
       "(array(['NO', 'YES'], dtype='<U3'), array([419031,   4262], dtype=int64))"
      ]
     },
     "execution_count": 13,
     "metadata": {},
     "output_type": "execute_result"
    }
   ],
   "source": [
    "Symbol=np.where(df.applymap(lambda x: x=='?'),'YES','NO')\n",
    "np.unique(Symbol,return_counts=True)\n",
    "#There are 4262 values missing represented by \"?\"."
   ]
  },
  {
   "cell_type": "code",
   "execution_count": 14,
   "metadata": {},
   "outputs": [
    {
     "name": "stdout",
     "output_type": "stream",
     "text": [
      "employer type: 1836\n",
      "marital status: 0\n",
      "job type: 1843\n",
      "relationship status: 0\n",
      "ethnicity: 0\n",
      "sex: 0\n",
      "country of birth: 583\n",
      "high income?: 0\n"
     ]
    }
   ],
   "source": [
    "#Detecting the categorical columns containing the empty values represented by \"?\".\n",
    "for i in [1,3,4,5,6,7,11,12]:\n",
    "    print(df.iloc[:,i].name +': '+str((df.iloc[:,i]=='?').sum()))"
   ]
  },
  {
   "cell_type": "code",
   "execution_count": 15,
   "metadata": {
    "scrolled": true
   },
   "outputs": [
    {
     "data": {
      "text/plain": [
       "False    30162\n",
       "True      2399\n",
       "dtype: int64"
      ]
     },
     "execution_count": 15,
     "metadata": {},
     "output_type": "execute_result"
    }
   ],
   "source": [
    "#Calculating the number of rows containing missing data.\n",
    "mask=((df.iloc[:,1]=='?')|(df.iloc[:,4]=='?'))|(df.iloc[:,11]=='?')\n",
    "mask.value_counts()"
   ]
  },
  {
   "cell_type": "markdown",
   "metadata": {},
   "source": [
    "## Dealing with missing data"
   ]
  },
  {
   "cell_type": "markdown",
   "metadata": {},
   "source": [
    "### Dropping them (df2)"
   ]
  },
  {
   "cell_type": "code",
   "execution_count": 16,
   "metadata": {},
   "outputs": [],
   "source": [
    "df2=pd.DataFrame(df.values, columns=['age','employer type','educational level','marital status','job type','relationship status'\\\n",
    "                                     ,'ethnicity','sex','capital gains','capital losses','hours worked per week',\\\n",
    "                                    'country of birth','high income?'])"
   ]
  },
  {
   "cell_type": "code",
   "execution_count": 17,
   "metadata": {},
   "outputs": [],
   "source": [
    "for i in range(1,32561):\n",
    "    if df2.loc[i,'job type']=='?':\n",
    "        df2.drop(labels=i,inplace=True)\n",
    "    elif df2.loc[i,'employer type']=='?':\n",
    "        df2.drop(labels=i,inplace=True)\n",
    "    elif df2.loc[i,'country of birth']=='?':\n",
    "        df2.drop(labels=i,inplace=True)"
   ]
  },
  {
   "cell_type": "code",
   "execution_count": 18,
   "metadata": {},
   "outputs": [
    {
     "data": {
      "text/plain": [
       "(30162, 13)"
      ]
     },
     "execution_count": 18,
     "metadata": {},
     "output_type": "execute_result"
    }
   ],
   "source": [
    "df2.shape"
   ]
  },
  {
   "cell_type": "markdown",
   "metadata": {},
   "source": [
    "### Replacing them with the mode (df3)"
   ]
  },
  {
   "cell_type": "code",
   "execution_count": 19,
   "metadata": {},
   "outputs": [],
   "source": [
    "df3=pd.DataFrame(df.values, columns=['age','employer type','educational level','marital status','job type','relationship status'\\\n",
    "                                     ,'ethnicity','sex','capital gains','capital losses','hours worked per week',\\\n",
    "                                    'country of birth','high income?'])"
   ]
  },
  {
   "cell_type": "code",
   "execution_count": 20,
   "metadata": {},
   "outputs": [],
   "source": [
    "for i in range(1,32561):\n",
    "    if df3.loc[i,'job type']=='?':\n",
    "        df3.loc[i,'job type']='Prof-specialty'\n",
    "    if df3.loc[i,'employer type']=='?':\n",
    "        df3.loc[i,'employer type']='Private'\n",
    "    if df3.loc[i,'country of birth']=='?':\n",
    "        df3.loc[i,'country of birth']='United-States'"
   ]
  },
  {
   "cell_type": "code",
   "execution_count": 21,
   "metadata": {},
   "outputs": [
    {
     "name": "stdout",
     "output_type": "stream",
     "text": [
      "employer type: 0\n",
      "marital status: 0\n",
      "job type: 0\n",
      "relationship status: 0\n",
      "ethnicity: 0\n",
      "sex: 0\n",
      "country of birth: 0\n",
      "high income?: 0\n"
     ]
    }
   ],
   "source": [
    "#checking that categorical data are all non-null after cleaning.\n",
    "for i in [1,3,4,5,6,7,11,12]:\n",
    "    print(df3.iloc[:,i].name +': '+str((df3.iloc[:,i]=='?').sum()))"
   ]
  },
  {
   "cell_type": "markdown",
   "metadata": {},
   "source": [
    "# 4. Outliers and noise"
   ]
  },
  {
   "cell_type": "code",
   "execution_count": 22,
   "metadata": {},
   "outputs": [
    {
     "data": {
      "image/png": "[encoded data removed]",
      "text/plain": [
       "<Figure size 1296x216 with 3 Axes>"
      ]
     },
     "metadata": {
      "needs_background": "light"
     },
     "output_type": "display_data"
    }
   ],
   "source": [
    "plt.figure(figsize=(18,3))\n",
    "fig = plt.subplot(131)\n",
    "sns.boxplot('age',data=df)\n",
    "plt.title('Box plot showing distribution of age',fontsize=15)\n",
    "fig = plt.subplot(132)\n",
    "sns.boxplot('educational level',data=df)\n",
    "plt.title('Box plot showing distribution of educational level',fontsize=15)\n",
    "fig = plt.subplot(133)\n",
    "sns.boxplot('hours worked per week',data=df)\n",
    "plt.title('Box plot showing distribution of hours \\n worked per week',fontsize=15)\n",
    "plt.show()"
   ]
  },
  {
   "cell_type": "code",
   "execution_count": 23,
   "metadata": {},
   "outputs": [
    {
     "data": {
      "image/png": "[encoded data removed]",
      "text/plain": [
       "<Figure size 1296x216 with 2 Axes>"
      ]
     },
     "metadata": {
      "needs_background": "light"
     },
     "output_type": "display_data"
    }
   ],
   "source": [
    "plt.figure(figsize=(18,3))\n",
    "fig = plt.subplot(121)\n",
    "sns.boxplot('capital gains',data=df)\n",
    "plt.title('Box plot showing distribution of capital gains',fontsize=15)\n",
    "fig = plt.subplot(122)\n",
    "sns.boxplot('capital losses',data=df)\n",
    "plt.title('Box plot showing distribution of capital losses',fontsize=15)\n",
    "plt.show()"
   ]
  },
  {
   "cell_type": "code",
   "execution_count": 24,
   "metadata": {},
   "outputs": [
    {
     "name": "stdout",
     "output_type": "stream",
     "text": [
      "Upper whisker limit of the boxplot:  78.0\n",
      "Total number of respondents more than 78 year-old:  143\n",
      "Outliers range [min,max]: [79,90]\n"
     ]
    }
   ],
   "source": [
    "# \"Age\" outliers.\n",
    "q1=df['age'].quantile(0.25)\n",
    "q3=df['age'].quantile(0.75)\n",
    "IQR=q3-q1\n",
    "print('Upper whisker limit of the boxplot:  '+str(q3+1.5*IQR))\n",
    "print('Total number of respondents more than 78 year-old:  '+str(df[df['age']>78].shape[0]))\n",
    "print('Outliers range [min,max]: '+'['+str(df[df['age']>78]['age'].min())+','+str(df[(df['age']>78)]['age'].max())+']')"
   ]
  },
  {
   "cell_type": "code",
   "execution_count": 25,
   "metadata": {},
   "outputs": [
    {
     "name": "stdout",
     "output_type": "stream",
     "text": [
      "Lower whisker limit of the boxplot:  4.5\n",
      "Total number of respondents with an educational level 4 at the most:  1198\n",
      "Outliers range [min,max]: [1,4]\n",
      "Total number of respondents with an educational level 1:  51\n"
     ]
    }
   ],
   "source": [
    "# \"Educational level\" outliers.\n",
    "q1=df['educational level'].quantile(0.25)\n",
    "q3=df['educational level'].quantile(0.75)\n",
    "IQR=q3-q1\n",
    "print('Lower whisker limit of the boxplot:  '+str(q1-1.5*IQR))\n",
    "print('Total number of respondents with an educational level 4 at the most:  '+str(df[df['educational level']<5].shape[0]))\n",
    "print('Outliers range [min,max]: '+'['+str(df[df['educational level']<5]['educational level'].min())+','+\\\n",
    "str(df[(df['educational level']<5)]['educational level'].max())+']')\n",
    "print('Total number of respondents with an educational level 1:  '+str(df[df['educational level']==1].shape[0]))"
   ]
  },
  {
   "cell_type": "code",
   "execution_count": 26,
   "metadata": {},
   "outputs": [
    {
     "name": "stdout",
     "output_type": "stream",
     "text": [
      "Lower whisker limit of the boxplot:  32.5\n",
      "Upper whisker limit of the boxplot:  52.5\n",
      "Total number of respondents who work less than 33 hours:  5516\n",
      "Total number of respondents who work more than 52 hours:  3492\n",
      "Lower part outliers range [min,max]: [1,32]\n",
      "Upper part outliers range [min,max]: [53,99]\n",
      "Number of respondents working 1 hrs a week: 20\n",
      "Number of respondents working 2 hrs a week: 32\n",
      "Number of respondents working 80 hrs a week: 133\n",
      "Number of respondents working 99 hrs a week: 85\n"
     ]
    }
   ],
   "source": [
    "# \"Hours worked per week\" outliers\n",
    "q1=df['hours worked per week'].quantile(0.25)\n",
    "q3=df['hours worked per week'].quantile(0.75)\n",
    "IQR=q3-q1\n",
    "print('Lower whisker limit of the boxplot:  '+str(q1-1.5*IQR))\n",
    "print('Upper whisker limit of the boxplot:  '+str(q3+1.5*IQR))\n",
    "print('Total number of respondents who work less than 33 hours:  '+str(df[df['hours worked per week']<32.5].shape[0]))\n",
    "print('Total number of respondents who work more than 52 hours:  '+str(df[df['hours worked per week']>52.5].shape[0]))\n",
    "print('Lower part outliers range [min,max]: '+'['+str(df[df['hours worked per week']<32.5]['hours worked per week'].min())+','+\\\n",
    "str(df[df['hours worked per week']<32.5]['hours worked per week'].max())+']')\n",
    "print('Upper part outliers range [min,max]: '+'['+str(df[df['hours worked per week']>52.5]['hours worked per week'].min())+','+\\\n",
    "str(df[df['hours worked per week']>52.5]['hours worked per week'].max())+']')\n",
    "for i in [1,2,80,99]:\n",
    "    print('Number of respondents working '+str(i)+' hrs a week: '+ str(df[df['hours worked per week']==i].shape[0]))"
   ]
  },
  {
   "cell_type": "code",
   "execution_count": 27,
   "metadata": {},
   "outputs": [
    {
     "name": "stdout",
     "output_type": "stream",
     "text": [
      "Upper whisker limit of the boxplot:  0.0\n",
      "Total number of respondents who achieved a gain in their capital:  2712\n",
      "Outliers range [min,max]: [114,99999]\n"
     ]
    }
   ],
   "source": [
    "# \"Capital gains\" outliers. \n",
    "q1=df['capital gains'].quantile(0.25)\n",
    "q3=df['capital gains'].quantile(0.75)\n",
    "IQR=q3-q1\n",
    "print('Upper whisker limit of the boxplot:  '+str(q3+1.5*IQR))\n",
    "print('Total number of respondents who achieved a gain in their capital:  '+str(df[df['capital gains']>0].shape[0]))\n",
    "print('Outliers range [min,max]: '+'['+str(df[df['capital gains']>0]['capital gains'].min())+','+\\\n",
    "str(df[(df['capital gains']>0)]['capital gains'].max())+']')"
   ]
  },
  {
   "cell_type": "code",
   "execution_count": 28,
   "metadata": {},
   "outputs": [
    {
     "name": "stdout",
     "output_type": "stream",
     "text": [
      "Upper whisker limit of the boxplot:  0.0\n",
      "Total number of respondents who marked a loss in their capital:  1519\n",
      "Outliers range [min,max]: [155,4356]\n",
      "Total number of respondents who marked a loss of 4356 in their capital:  3\n"
     ]
    }
   ],
   "source": [
    "# \"Capital losses\" outliers. \n",
    "q1=df['capital losses'].quantile(0.25)\n",
    "q3=df['capital losses'].quantile(0.75)\n",
    "IQR=q3-q1\n",
    "print('Upper whisker limit of the boxplot:  '+str(q3+1.5*IQR))\n",
    "print('Total number of respondents who marked a loss in their capital:  '+str(df[df['capital losses']>0].shape[0]))\n",
    "print('Outliers range [min,max]: '+'['+str(df[df['capital losses']>0]['capital losses'].min())+','+\\\n",
    "str(df[(df['capital losses']>0)]['capital losses'].max())+']')\n",
    "print('Total number of respondents who marked a loss of 4356 in their capital:  '+str(df[df['capital losses']==4356].shape[0]))"
   ]
  },
  {
   "cell_type": "markdown",
   "metadata": {},
   "source": [
    "# 5. Erroneous data "
   ]
  },
  {
   "cell_type": "markdown",
   "metadata": {},
   "source": [
    "## Investigating and identifying erroneous data"
   ]
  },
  {
   "cell_type": "code",
   "execution_count": 29,
   "metadata": {
    "scrolled": true
   },
   "outputs": [
    {
     "name": "stdout",
     "output_type": "stream",
     "text": [
      "Number of respondents who achieved 99999 gain in their capital is: 159\n"
     ]
    }
   ],
   "source": [
    "print('Number of respondents who achieved 99999 gain in their capital is: '+str(df[df['capital gains']==99999].shape[0]))"
   ]
  },
  {
   "cell_type": "code",
   "execution_count": 30,
   "metadata": {},
   "outputs": [
    {
     "data": {
      "text/plain": [
       "Husband           13192\n",
       "Not-in-family      4430\n",
       "Own-child          2823\n",
       "Unmarried           792\n",
       "Other-relative      551\n",
       "Wife                  2\n",
       "Name: relationship status, dtype: int64"
      ]
     },
     "execution_count": 30,
     "metadata": {},
     "output_type": "execute_result"
    }
   ],
   "source": [
    "df[df['sex']=='Male']['relationship status'].value_counts()"
   ]
  },
  {
   "cell_type": "code",
   "execution_count": 31,
   "metadata": {},
   "outputs": [
    {
     "data": {
      "text/plain": [
       "Not-in-family     3875\n",
       "Unmarried         2654\n",
       "Own-child         2245\n",
       "Wife              1566\n",
       "Other-relative     430\n",
       "Husband              1\n",
       "Name: relationship status, dtype: int64"
      ]
     },
     "execution_count": 31,
     "metadata": {},
     "output_type": "execute_result"
    }
   ],
   "source": [
    "df[df['sex']=='Female']['relationship status'].value_counts()"
   ]
  },
  {
   "cell_type": "code",
   "execution_count": 32,
   "metadata": {},
   "outputs": [
    {
     "data": {
      "text/plain": [
       "?    7\n",
       "Name: job type, dtype: int64"
      ]
     },
     "execution_count": 32,
     "metadata": {},
     "output_type": "execute_result"
    }
   ],
   "source": [
    "df[df['employer type']=='Never-worked']['job type'].value_counts()"
   ]
  },
  {
   "cell_type": "markdown",
   "metadata": {},
   "source": [
    "## Dealing with erroneous data"
   ]
  },
  {
   "cell_type": "code",
   "execution_count": 33,
   "metadata": {},
   "outputs": [
    {
     "data": {
      "text/plain": [
       "Asian-Pac-Islander    77\n",
       "Amer-Indian-Eskimo     2\n",
       "White                  1\n",
       "Name: ethnicity, dtype: int64"
      ]
     },
     "execution_count": 33,
     "metadata": {},
     "output_type": "execute_result"
    }
   ],
   "source": [
    "# Exploring the ethnicity of people who were born in \"South\"\n",
    "df3[df3['country of birth']=='South']['ethnicity'].value_counts()"
   ]
  },
  {
   "cell_type": "code",
   "execution_count": 34,
   "metadata": {},
   "outputs": [],
   "source": [
    "#Replacing erroneous data for both datasets df2, df3.\n",
    "for i in df2.index:\n",
    "    if (df2.loc[i,'sex']=='Male')&(df2.loc[i,'relationship status']=='Wife'):\n",
    "        df2.drop(labels=i,inplace=True)\n",
    "    elif (df2.loc[i,'sex']=='Female')&(df2.loc[i,'relationship status']=='Husband'):\n",
    "        df2.drop(labels=i,inplace=True)\n",
    "    elif df2.loc[i,'employer type']=='Never-worked':\n",
    "        df2.loc[i,'job type']='no-job'\n",
    "    elif (df2.loc[i,'country of birth']=='South')&(df2.loc[i,'ethnicity']=='Asian-Pac-Islander'):        \n",
    "        df2.loc[i,'country of birth']='South-Korea'\n",
    "    elif (df2.loc[i,'country of birth']=='South')&(df2.loc[i,'ethnicity']=='Amer-Indian-Eskimo'):\n",
    "        df2.loc[i,'country of birth']='South-Sudan' \n",
    "    elif (df2.loc[i,'country of birth']=='South')&(df2.loc[i,'ethnicity']=='White'):\n",
    "        df2.loc[i,'country of birth']='South-Africa'\n",
    "    elif df2.loc[i,'country of birth']=='Hong':\n",
    "        df2.loc[i,'country of birth']='Hong-Kong'\n",
    "        \n",
    "\n",
    "for i in df3.index:\n",
    "    if (df3.loc[i,'sex']=='Male')&(df3.loc[i,'relationship status']=='Wife'):\n",
    "        df3.drop(labels=i,inplace=True)\n",
    "    elif (df3.loc[i,'sex']=='Female')&(df3.loc[i,'relationship status']=='Husband'):\n",
    "        df3.drop(labels=i,inplace=True)\n",
    "    elif df3.loc[i,'employer type']=='Never-worked':\n",
    "        df3.loc[i,'job type']='no-job'\n",
    "    elif (df3.loc[i,'country of birth']=='South')&(df3.loc[i,'ethnicity']=='Asian-Pac-Islander'):        \n",
    "        df3.loc[i,'country of birth']='South-Korea'\n",
    "    elif (df3.loc[i,'country of birth']=='South')&(df3.loc[i,'ethnicity']=='Amer-Indian-Eskimo'):\n",
    "        df3.loc[i,'country of birth']='South-Sudan' \n",
    "    elif (df3.loc[i,'country of birth']=='South')&(df3.loc[i,'ethnicity']=='White'):\n",
    "        df3.loc[i,'country of birth']='South-Africa'\n",
    "    elif df3.loc[i,'country of birth']=='Hong':\n",
    "        df3.loc[i,'country of birth']='Hong-Kong'"
   ]
  },
  {
   "cell_type": "markdown",
   "metadata": {},
   "source": [
    "# 6. Repeated data "
   ]
  },
  {
   "cell_type": "code",
   "execution_count": 35,
   "metadata": {},
   "outputs": [],
   "source": [
    "dfd=pd.DataFrame(df.values, columns=['age','employer type','educational level','marital status','job type','relationship status'\\\n",
    "                                     ,'ethnicity','sex','capital gains','capital losses','hours worked per week',\\\n",
    "                                    'country of birth','high income?'])"
   ]
  },
  {
   "cell_type": "code",
   "execution_count": 36,
   "metadata": {},
   "outputs": [
    {
     "name": "stdout",
     "output_type": "stream",
     "text": [
      "number of duplicates including the first occurence is: 15132\n"
     ]
    }
   ],
   "source": [
    "a=dfd.drop(['employer type','job type','country of birth'],axis=1).duplicated(keep=False).sum()\n",
    "print('number of duplicates including the first occurence is: '+str(a))"
   ]
  },
  {
   "cell_type": "code",
   "execution_count": 37,
   "metadata": {},
   "outputs": [
    {
     "name": "stdout",
     "output_type": "stream",
     "text": [
      "number of rows without duplicates is: 21146\n"
     ]
    }
   ],
   "source": [
    "b=dfd.drop(['employer type','job type','country of birth'],axis=1).drop_duplicates(keep='first').shape[0]\n",
    "print('number of rows without duplicates is: '+str(b))"
   ]
  },
  {
   "cell_type": "code",
   "execution_count": 38,
   "metadata": {},
   "outputs": [
    {
     "name": "stdout",
     "output_type": "stream",
     "text": [
      "number of duplicates is: 11415\n"
     ]
    }
   ],
   "source": [
    "print('number of duplicates is: '+str(dfd.shape[0]-b))"
   ]
  },
  {
   "cell_type": "code",
   "execution_count": 39,
   "metadata": {},
   "outputs": [
    {
     "name": "stdout",
     "output_type": "stream",
     "text": [
      "number of rows having duplicates is: 3717\n"
     ]
    }
   ],
   "source": [
    "c=a-(dfd.shape[0]-b)\n",
    "print('number of rows having duplicates is: '+str(c))"
   ]
  },
  {
   "cell_type": "markdown",
   "metadata": {},
   "source": [
    "\n",
    "\n",
    "\n",
    "# Data mining"
   ]
  },
  {
   "cell_type": "markdown",
   "metadata": {},
   "source": [
    "## 1. Data mining algorithms"
   ]
  },
  {
   "cell_type": "markdown",
   "metadata": {},
   "source": [
    "### First dataset (df2)"
   ]
  },
  {
   "cell_type": "code",
   "execution_count": 40,
   "metadata": {},
   "outputs": [
    {
     "name": "stdout",
     "output_type": "stream",
     "text": [
      "Number of rows for training data is:    18096\n",
      "Number of rows for validation data is:  6032\n",
      "Number of rows for testing data is:     6032\n",
      "Accuracy for KNN is:                   0.8217838196286472\n",
      "Accuracy for NB-Gaussian is:           0.789290450928382\n",
      "Accuracy for NB-Multinomial is:        0.773209549071618\n",
      "Accuracy for LR is:                    0.8070291777188329\n",
      "Accuracy for SVM-linear is:            0.7877984084880637\n",
      "Accuracy for SVM-RBF-Kernel is:        0.8048740053050398\n"
     ]
    }
   ],
   "source": [
    "# Split the data into: Training, Validation, and Testing sets. \n",
    "X=df2.loc[:,['age','educational level','capital gains','capital losses','hours worked per week']]\n",
    "X=X.values\n",
    "y=df2['high income?'].values\n",
    "\n",
    "rs = np.random.RandomState(seed=10)\n",
    "x_train, x_test, y_train, y_test = model_selection.train_test_split(X,y, test_size = 0.4, shuffle=True,random_state=rs)\n",
    "x_test, x_valid, y_test, y_valid = model_selection.train_test_split(x_test,y_test, test_size = 0.5, shuffle=True,random_state=rs)\n",
    "\n",
    "print('Number of rows for training data is:   ',x_train.shape[0])\n",
    "print('Number of rows for validation data is: ',x_valid.shape[0])\n",
    "print('Number of rows for testing data is:    ',x_test.shape[0])\n",
    "\n",
    "score_df2=[]\n",
    "\n",
    "#KNN Classifier:\n",
    "clf = neighbors.KNeighborsClassifier()\n",
    "clf.fit(x_train, y_train)\n",
    "y_pred = clf.predict(x_valid)\n",
    "score=metrics.accuracy_score(y_valid,y_pred)\n",
    "print('Accuracy for KNN is:                   '+str(score))\n",
    "score_df2+=[score]\n",
    "\n",
    "#NB-Gaussian Classifier:\n",
    "clf = naive_bayes.GaussianNB()\n",
    "clf.fit(x_train, y_train)\n",
    "y_pred = clf.predict(x_valid)\n",
    "score=metrics.accuracy_score(y_valid,y_pred)\n",
    "print('Accuracy for NB-Gaussian is:           '+str(score))\n",
    "score_df2+=[score]\n",
    "\n",
    "#NB-Multinomial Classifier:\n",
    "clf = naive_bayes.MultinomialNB()\n",
    "clf.fit(x_train, y_train)\n",
    "y_pred = clf.predict(x_valid)\n",
    "score=metrics.accuracy_score(y_pred, y_valid)\n",
    "print('Accuracy for NB-Multinomial is:        '+str(score))\n",
    "score_df2+=[score]\n",
    "\n",
    "#Logistic Regression Classifier:\n",
    "clf = linear_model.LogisticRegression()\n",
    "clf.fit(x_train, y_train)\n",
    "y_pred = clf.predict(x_valid)\n",
    "score=metrics.accuracy_score(y_valid,y_pred)\n",
    "print('Accuracy for LR is:                    '+str(score))\n",
    "score_df2+=[score]\n",
    "\n",
    "#SVM linear Classifier:\n",
    "clf = svm.LinearSVC()\n",
    "clf.fit(x_train, y_train)\n",
    "y_pred = clf.predict(x_valid)\n",
    "score=metrics.accuracy_score( y_valid,y_pred)\n",
    "print('Accuracy for SVM-linear is:            '+str(score))\n",
    "score_df2+=[score]\n",
    "\n",
    "#SVM with RBF Kernel Classifier:\n",
    "clf = svm.SVC(kernel='rbf')\n",
    "clf.fit(x_train, y_train)\n",
    "y_pred = clf.predict(x_valid)\n",
    "score=metrics.accuracy_score(y_pred,y_valid)\n",
    "print('Accuracy for SVM-RBF-Kernel is:        '+str(score))\n",
    "score_df2+=[score]"
   ]
  },
  {
   "cell_type": "markdown",
   "metadata": {},
   "source": [
    "### Second dataset (df3)"
   ]
  },
  {
   "cell_type": "code",
   "execution_count": 41,
   "metadata": {},
   "outputs": [
    {
     "name": "stdout",
     "output_type": "stream",
     "text": [
      "Number of rows for training data is:    19534\n",
      "Number of rows for validation data is:  6512\n",
      "Number of rows for testing data is:     6512\n",
      "Accuracy for KNN is:                   0.8237100737100738\n",
      "Accuracy for NB-Gaussian is:           0.7983722358722358\n",
      "Accuracy for NB-Multinomial is:        0.7834766584766585\n",
      "Accuracy for LR is:                    0.8232493857493858\n",
      "Accuracy for SVM-linear is:            0.8069717444717445\n",
      "Accuracy for SVM-RBF-Kernel is:        0.8118857493857494\n"
     ]
    }
   ],
   "source": [
    "# Split the data into: Training, Validation, and Testing sets. \n",
    "X=df3.loc[:,['age','educational level','capital gains','capital losses','hours worked per week']]\n",
    "X=X.values\n",
    "y=df3['high income?'].values\n",
    "\n",
    "rs = np.random.RandomState(seed=10)\n",
    "x_train, x_test, y_train, y_test = model_selection.train_test_split(X,y, test_size = 0.4, shuffle=True,random_state=rs)\n",
    "x_test, x_valid, y_test, y_valid = model_selection.train_test_split(x_test,y_test, test_size = 0.5, shuffle=True,random_state=rs)\n",
    "\n",
    "print('Number of rows for training data is:   ',x_train.shape[0])\n",
    "print('Number of rows for validation data is: ',x_valid.shape[0])\n",
    "print('Number of rows for testing data is:    ',x_test.shape[0])\n",
    "\n",
    "score_df3=[]\n",
    "\n",
    "#KNN Classifier:\n",
    "clf = neighbors.KNeighborsClassifier()\n",
    "clf.fit(x_train, y_train)\n",
    "y_pred = clf.predict(x_valid)\n",
    "score=metrics.accuracy_score(y_valid,y_pred)\n",
    "print('Accuracy for KNN is:                   '+str(score))\n",
    "score_df3+=[score]\n",
    "\n",
    "#NB-Gaussian Classifier:\n",
    "clf = naive_bayes.GaussianNB()\n",
    "clf.fit(x_train, y_train)\n",
    "y_pred = clf.predict(x_valid)\n",
    "score=metrics.accuracy_score(y_valid,y_pred)\n",
    "print('Accuracy for NB-Gaussian is:           '+str(score))\n",
    "score_df3+=[score]\n",
    "\n",
    "#NB-Multinomial Classifier:\n",
    "clf = naive_bayes.MultinomialNB()\n",
    "clf.fit(x_train, y_train)\n",
    "y_pred = clf.predict(x_valid)\n",
    "score=metrics.accuracy_score(y_pred, y_valid)\n",
    "print('Accuracy for NB-Multinomial is:        '+str(score))\n",
    "score_df3+=[score]\n",
    "\n",
    "#Logistic Regression Classifier:\n",
    "clf = linear_model.LogisticRegression()\n",
    "clf.fit(x_train, y_train)\n",
    "y_pred = clf.predict(x_valid)\n",
    "score=metrics.accuracy_score(y_valid,y_pred)\n",
    "print('Accuracy for LR is:                    '+str(score))\n",
    "score_df3+=[score]\n",
    "\n",
    "#SVM linear Classifier:\n",
    "clf = svm.LinearSVC()\n",
    "clf.fit(x_train, y_train)\n",
    "y_pred = clf.predict(x_valid)\n",
    "score=metrics.accuracy_score( y_valid,y_pred)\n",
    "print('Accuracy for SVM-linear is:            '+str(score))\n",
    "score_df3+=[score]\n",
    "\n",
    "#SVM with RBF Kernel Classifier:\n",
    "clf = svm.SVC(kernel='rbf')\n",
    "clf.fit(x_train, y_train)\n",
    "y_pred = clf.predict(x_valid)\n",
    "score=metrics.accuracy_score(y_pred,y_valid)\n",
    "print('Accuracy for SVM-RBF-Kernel is:        '+str(score))\n",
    "score_df3+=[score]"
   ]
  },
  {
   "cell_type": "code",
   "execution_count": 42,
   "metadata": {},
   "outputs": [
    {
     "data": {
      "image/png": "[encoded data removed]",
      "text/plain": [
       "<Figure size 864x576 with 1 Axes>"
      ]
     },
     "metadata": {
      "needs_background": "light"
     },
     "output_type": "display_data"
    }
   ],
   "source": [
    "s1=pd.Series(['KNN','NB-Gaussian','NB-Multinomial','LR','SVM-linear','SVM-RBF'],name='Classifier')\n",
    "s2=pd.Series(score_df2,name='Score_df2')\n",
    "s3=pd.Series(score_df3,name='Score_df3')\n",
    "s=pd.concat([s1,s2,s3],axis=1)\n",
    "s = s.set_index('Classifier')\n",
    "s.sort_values(by='Score_df3').plot.barh(figsize=(12,8))\n",
    "plt.xlim(0.75,0.85)\n",
    "plt.xlabel(\"Accuracy\")\n",
    "plt.title(\"Bar chart representing the accuracy of classifiers \\n as per the two prepared datasets\",fontsize=15);"
   ]
  },
  {
   "cell_type": "markdown",
   "metadata": {},
   "source": [
    "# 2. Parameter Tuning"
   ]
  },
  {
   "cell_type": "markdown",
   "metadata": {},
   "source": [
    "## K-NN classifier"
   ]
  },
  {
   "cell_type": "markdown",
   "metadata": {},
   "source": [
    "### a. Number of neighbours (K)"
   ]
  },
  {
   "cell_type": "code",
   "execution_count": 43,
   "metadata": {},
   "outputs": [],
   "source": [
    "K=[]\n",
    "s_k=[]\n",
    "for k in range(1,21):\n",
    "    clf = neighbors.KNeighborsClassifier(n_neighbors=k)\n",
    "    clf.fit(x_train, y_train)\n",
    "    y_pred = clf.predict(x_valid)\n",
    "    score = metrics.accuracy_score(y_pred, y_valid)\n",
    "#print(str('For K='+str(k)+', the accuracy is: '+str(score)))\n",
    "    K+=[k]\n",
    "    s_k+=[score]"
   ]
  },
  {
   "cell_type": "code",
   "execution_count": 44,
   "metadata": {},
   "outputs": [
    {
     "data": {
      "image/png": "[encoded data removed]",
      "text/plain": [
       "<Figure size 864x432 with 1 Axes>"
      ]
     },
     "metadata": {
      "needs_background": "light"
     },
     "output_type": "display_data"
    }
   ],
   "source": [
    "plt.figure(figsize=(12,6))\n",
    "plt.plot(K,s_k, color='blue')\n",
    "plt.xlim(1,20)\n",
    "plt.ylim(0.78,0.85)\n",
    "plt.xlabel(\"Number of neighbours (K)\")\n",
    "plt.ylabel(\"Accuracy\")\n",
    "plt.xticks(range(0,22))\n",
    "plt.title(\"Influence of the number of neighbours on the accuracy\",fontsize=15);"
   ]
  },
  {
   "cell_type": "code",
   "execution_count": 45,
   "metadata": {},
   "outputs": [
    {
     "name": "stdout",
     "output_type": "stream",
     "text": [
      "For K=14, the accuracy is: 0.8409090909090909\n"
     ]
    }
   ],
   "source": [
    "#Best K is 14. \n",
    "print(str('For K=14, the accuracy is: '+str(s_k[13])))"
   ]
  },
  {
   "cell_type": "markdown",
   "metadata": {},
   "source": [
    "### b. Type of weight"
   ]
  },
  {
   "cell_type": "code",
   "execution_count": 46,
   "metadata": {},
   "outputs": [
    {
     "name": "stdout",
     "output_type": "stream",
     "text": [
      "Accuracy in the case of weighted neighbours by the inverse of their distance is: 0.8333845208845209\n"
     ]
    }
   ],
   "source": [
    "clf = neighbors.KNeighborsClassifier(n_neighbors=14, weights='distance')\n",
    "clf.fit(x_train, y_train)\n",
    "y_pred = clf.predict(x_valid)\n",
    "score = metrics.accuracy_score(y_pred, y_valid)\n",
    "print('Accuracy in the case of weighted neighbours by the inverse of their distance is: '+str(score))\n",
    "#I will keep the weighting uniform (i.e. neighours weighted equally) as the accuracy is higher than if these neighours are\n",
    "#weighted by the inverse of their distance.  "
   ]
  },
  {
   "cell_type": "markdown",
   "metadata": {},
   "source": [
    "### c. Type of distance (p)"
   ]
  },
  {
   "cell_type": "code",
   "execution_count": 47,
   "metadata": {},
   "outputs": [],
   "source": [
    "P=[]\n",
    "s_p=[]\n",
    "for p in range(1,21):\n",
    "    clf = neighbors.KNeighborsClassifier(n_neighbors=14, p=p)\n",
    "    clf.fit(x_train, y_train)\n",
    "    y_pred = clf.predict(x_valid)\n",
    "    score = metrics.accuracy_score(y_pred, y_valid)\n",
    "    P+=[p]\n",
    "    s_p+=[score]\n",
    "#print('For Minkowski distance with p='+str(i)+', the accuracy is: '+str(score))  "
   ]
  },
  {
   "cell_type": "code",
   "execution_count": 48,
   "metadata": {
    "scrolled": false
   },
   "outputs": [
    {
     "data": {
      "image/png": "[encoded data removed]",
      "text/plain": [
       "<Figure size 864x432 with 1 Axes>"
      ]
     },
     "metadata": {
      "needs_background": "light"
     },
     "output_type": "display_data"
    }
   ],
   "source": [
    "plt.figure(figsize=(12,6))\n",
    "plt.plot(P,s_p, color='blue')\n",
    "plt.xlim(1,20)\n",
    "plt.ylim(0.839,0.842)\n",
    "plt.xlabel(\"Distance parameter (p)\")\n",
    "plt.ylabel(\"Accuracy\")\n",
    "plt.xticks(range(0,22))\n",
    "plt.title(\"Influence of the distance type on the accuracy\",fontsize=15);"
   ]
  },
  {
   "cell_type": "code",
   "execution_count": 49,
   "metadata": {},
   "outputs": [
    {
     "name": "stdout",
     "output_type": "stream",
     "text": [
      "For Minkowski distance with p=1, the accuracy is: 0.8416769041769042\n"
     ]
    }
   ],
   "source": [
    "#The best distance is when p=1, i.e., the Manhattan distance. \n",
    "print('For Minkowski distance with p=1, the accuracy is: '+str(s_p[0]))  "
   ]
  },
  {
   "cell_type": "code",
   "execution_count": 50,
   "metadata": {},
   "outputs": [
    {
     "name": "stdout",
     "output_type": "stream",
     "text": [
      "Accuracy for KNN, after tuning: 0.8416769041769042\n"
     ]
    }
   ],
   "source": [
    "#Best parameters: K=14, Weight=uniform (default), Distance=1 (Manhattan). \n",
    "clf = neighbors.KNeighborsClassifier(n_neighbors=14,p=1)\n",
    "clf.fit(x_train, y_train)\n",
    "y_pred = clf.predict(x_valid)\n",
    "print('Accuracy for KNN, after tuning: '+str(metrics.accuracy_score(y_pred, y_valid)))"
   ]
  },
  {
   "cell_type": "markdown",
   "metadata": {},
   "source": [
    "## Logistic Regression classifier"
   ]
  },
  {
   "cell_type": "markdown",
   "metadata": {},
   "source": [
    "### a. Regularisation parameter (C)"
   ]
  },
  {
   "cell_type": "code",
   "execution_count": 51,
   "metadata": {},
   "outputs": [
    {
     "name": "stdout",
     "output_type": "stream",
     "text": [
      "For C=0.001, the accuracy is: 0.8049754299754299\n",
      "For C=0.01, the accuracy is: 0.8161855036855037\n",
      "For C=0.1, the accuracy is: 0.8224815724815725\n",
      "For C=1, the accuracy is: 0.8232493857493858\n",
      "For C=10, the accuracy is: 0.8218673218673219\n",
      "For C=100, the accuracy is: 0.8226351351351351\n"
     ]
    }
   ],
   "source": [
    "for i in [0.001,0.01,0.1,1,10,100]:\n",
    "    clf = linear_model.LogisticRegression(C=i)\n",
    "    clf.fit(x_train, y_train)\n",
    "    y_pred = clf.predict(x_valid)\n",
    "    score=metrics.accuracy_score(y_valid,y_pred)\n",
    "    print('For C='+str(i)+', the accuracy is: '+str(score))"
   ]
  },
  {
   "cell_type": "code",
   "execution_count": 52,
   "metadata": {},
   "outputs": [],
   "source": [
    "a=[]\n",
    "b=[]\n",
    "for i in range(1,51):\n",
    "    clf = linear_model.LogisticRegression(C=i)\n",
    "    clf.fit(x_train, y_train)\n",
    "    y_pred = clf.predict(x_valid)\n",
    "    score=metrics.accuracy_score(y_valid,y_pred)\n",
    "    a+=[i]\n",
    "    b+=[score]"
   ]
  },
  {
   "cell_type": "code",
   "execution_count": 53,
   "metadata": {},
   "outputs": [
    {
     "data": {
      "image/png": "[encoded data removed]",
      "text/plain": [
       "<Figure size 1080x432 with 1 Axes>"
      ]
     },
     "metadata": {
      "needs_background": "light"
     },
     "output_type": "display_data"
    }
   ],
   "source": [
    "plt.figure(figsize=(15,6))\n",
    "plt.plot(a,b, color='blue')\n",
    "plt.xlim(1,50)\n",
    "plt.ylim(0.821,0.8245)\n",
    "plt.xlabel(\"Regularisation parameter C\")\n",
    "plt.ylabel(\"Accuracy\")\n",
    "plt.xticks(range(0,52))\n",
    "plt.title(\"Influence of the regularisation parameter on the accuracy\",fontsize=15);"
   ]
  },
  {
   "cell_type": "code",
   "execution_count": 54,
   "metadata": {},
   "outputs": [
    {
     "name": "stdout",
     "output_type": "stream",
     "text": [
      "For C=20, the accuracy is: 0.824017199017199\n"
     ]
    }
   ],
   "source": [
    "#C=20 is the best.\n",
    "print('For C=20, the accuracy is: '+str(b[19]))"
   ]
  },
  {
   "cell_type": "markdown",
   "metadata": {},
   "source": [
    "### b. Penalization mode"
   ]
  },
  {
   "cell_type": "code",
   "execution_count": 55,
   "metadata": {},
   "outputs": [
    {
     "name": "stdout",
     "output_type": "stream",
     "text": [
      "For penalty= l1, the accuracy is: 0.8235565110565111\n",
      "For penalty= l2, the accuracy is: 0.824017199017199\n"
     ]
    }
   ],
   "source": [
    "for i in ['l1','l2']:\n",
    "    clf = linear_model.LogisticRegression(penalty=i,C=20)\n",
    "    clf.fit(x_train, y_train)\n",
    "    y_pred = clf.predict(x_valid)\n",
    "    score=metrics.accuracy_score(y_valid,y_pred)\n",
    "    print('For penalty= '+i+', the accuracy is: '+str(score))\n",
    "#the mode 'l2' (which is by default) is the best.  "
   ]
  },
  {
   "cell_type": "code",
   "execution_count": 56,
   "metadata": {},
   "outputs": [
    {
     "name": "stdout",
     "output_type": "stream",
     "text": [
      "Accuracy for LR, after tuning :0.824017199017199\n"
     ]
    }
   ],
   "source": [
    "#Best parameters: C=20, penalty='l2' (default). \n",
    "clf = linear_model.LogisticRegression(C=20)\n",
    "clf.fit(x_train, y_train)\n",
    "y_pred = clf.predict(x_valid)\n",
    "print('Accuracy for LR, after tuning :'+str(metrics.accuracy_score(y_valid,y_pred)))"
   ]
  },
  {
   "cell_type": "markdown",
   "metadata": {},
   "source": [
    "# 3. Feature Engineering"
   ]
  },
  {
   "cell_type": "markdown",
   "metadata": {},
   "source": [
    "## I. Improving existing features"
   ]
  },
  {
   "cell_type": "markdown",
   "metadata": {},
   "source": [
    "### 1. Encoding (converting relevant categorical features)"
   ]
  },
  {
   "cell_type": "markdown",
   "metadata": {},
   "source": [
    "#### - \"Marital Status\" with one-hot method:"
   ]
  },
  {
   "cell_type": "code",
   "execution_count": 57,
   "metadata": {},
   "outputs": [],
   "source": [
    "df4=pd.DataFrame(df3.values, columns=['age','employer type','educational level','marital status','job type','relationship status'\\\n",
    "                                     ,'ethnicity','sex','capital gains','capital losses','hours worked per week',\\\n",
    "                                    'country of birth','high income?'])"
   ]
  },
  {
   "cell_type": "code",
   "execution_count": 58,
   "metadata": {},
   "outputs": [],
   "source": [
    "df4=pd.concat([df4,pd.get_dummies(df4['marital status'],prefix='is')],axis=1)"
   ]
  },
  {
   "cell_type": "code",
   "execution_count": 59,
   "metadata": {},
   "outputs": [
    {
     "name": "stdout",
     "output_type": "stream",
     "text": [
      "Accuracy for KNN: 0.859029484029484\n",
      "Accuracy for LR: 0.8453624078624079\n"
     ]
    }
   ],
   "source": [
    "X=df4.iloc[:,[0,2,8,9,10,13,14,15,16,17,18,19]]\n",
    "X=X.values\n",
    "y=df4['high income?'].values\n",
    "rs = np.random.RandomState(seed=10)\n",
    "x_train, x_test, y_train, y_test = model_selection.train_test_split(X,y, test_size = 0.4, shuffle=True,random_state=rs)\n",
    "x_test, x_valid, y_test, y_valid = model_selection.train_test_split(x_test,y_test, test_size = 0.5, shuffle=True,random_state=rs)\n",
    "\n",
    "clf = neighbors.KNeighborsClassifier(n_neighbors=14,p=1)\n",
    "clf.fit(x_train, y_train)\n",
    "y_pred = clf.predict(x_valid)\n",
    "print('Accuracy for KNN: '+str(metrics.accuracy_score(y_pred, y_valid)))\n",
    "\n",
    "clf = linear_model.LogisticRegression(C=20)\n",
    "clf.fit(x_train, y_train)\n",
    "y_pred = clf.predict(x_valid)\n",
    "print('Accuracy for LR: '+str(metrics.accuracy_score(y_valid,y_pred)))\n"
   ]
  },
  {
   "cell_type": "markdown",
   "metadata": {},
   "source": [
    "#### -\"Job type\" with ordinal encoding"
   ]
  },
  {
   "cell_type": "code",
   "execution_count": 60,
   "metadata": {},
   "outputs": [],
   "source": [
    "df5=pd.DataFrame(df4.values, columns=['age','employer type','educational level','marital status','job type','relationship status'\\\n",
    "                                     ,'ethnicity','sex','capital gains','capital losses','hours worked per week',\\\n",
    "                                    'country of birth','high income?','is_Divorced','is_Married-AF-spouse',\\\n",
    "                                      'is_Married-civ-spouse','is_Married-spouse-absent','is_Never-married','is_Separated',\\\n",
    "                                     'is_Widowed'])"
   ]
  },
  {
   "cell_type": "code",
   "execution_count": 61,
   "metadata": {},
   "outputs": [],
   "source": [
    "rank_mapping={'Exec-managerial':3,'Adm-clerical':2,'Craft-repair':2,'Sales':2,'Machine-op-inspct':2,'Prof-specialty':2,\\\n",
    "              'Other-service':2,'Tech-support':2,'Transport-moving':2,'Handlers-cleaners':1,'Protective-serv':2,\\\n",
    "              'Farming-fishing':1,'Priv-house-serv':1,'Armed-Forces':2,'no-job':1}\n",
    "df5['job type_new']=df5['job type'].map(rank_mapping)"
   ]
  },
  {
   "cell_type": "code",
   "execution_count": 62,
   "metadata": {},
   "outputs": [
    {
     "name": "stdout",
     "output_type": "stream",
     "text": [
      "Accuracy for KNN: 0.8570331695331695\n",
      "Accuracy for LR: 0.8496621621621622\n"
     ]
    }
   ],
   "source": [
    "X=df5.iloc[:,[0,2,8,9,10]+list(range(13,21))]\n",
    "X=X.values\n",
    "y=df5['high income?'].values\n",
    "rs = np.random.RandomState(seed=10)\n",
    "x_train, x_test, y_train, y_test = model_selection.train_test_split(X,y, test_size = 0.4, shuffle=True,random_state=rs)\n",
    "x_test, x_valid, y_test, y_valid = model_selection.train_test_split(x_test,y_test, test_size = 0.5, shuffle=True,random_state=rs)\n",
    "\n",
    "clf = neighbors.KNeighborsClassifier(n_neighbors=14,p=1)\n",
    "clf.fit(x_train, y_train)\n",
    "y_pred = clf.predict(x_valid)\n",
    "print('Accuracy for KNN: '+str(metrics.accuracy_score(y_pred, y_valid)))\n",
    "\n",
    "clf = linear_model.LogisticRegression(C=20)\n",
    "clf.fit(x_train, y_train)\n",
    "y_pred = clf.predict(x_valid)\n",
    "print('Accuracy for LR: '+str(metrics.accuracy_score(y_valid,y_pred)))"
   ]
  },
  {
   "cell_type": "markdown",
   "metadata": {},
   "source": [
    "#### -\"employer type\" encoding with One-Hot method"
   ]
  },
  {
   "cell_type": "code",
   "execution_count": 63,
   "metadata": {},
   "outputs": [],
   "source": [
    "df6=pd.DataFrame(df4.values, columns=['age','employer type','educational level','marital status','job type','relationship status'\\\n",
    "                                     ,'ethnicity','sex','capital gains','capital losses','hours worked per week',\\\n",
    "                                    'country of birth','high income?','is_Divorced','is_Married-AF-spouse',\\\n",
    "                                      'is_Married-civ-spouse','is_Married-spouse-absent','is_Never-married','is_Separated',\\\n",
    "                                     'is_Widowed'])"
   ]
  },
  {
   "cell_type": "code",
   "execution_count": 64,
   "metadata": {},
   "outputs": [],
   "source": [
    "df6=pd.concat([df6,pd.get_dummies(df6['job type'],prefix='is')],axis=1)"
   ]
  },
  {
   "cell_type": "code",
   "execution_count": 65,
   "metadata": {},
   "outputs": [
    {
     "name": "stdout",
     "output_type": "stream",
     "text": [
      "Accuracy for KNN: 0.8584152334152334\n",
      "Accuracy for LR: 0.8539619164619164\n"
     ]
    }
   ],
   "source": [
    "X=df6.iloc[:,[0,2,8,9,10]+list(range(13,35))]\n",
    "X=X.values\n",
    "y=df6['high income?'].values\n",
    "rs = np.random.RandomState(seed=10)\n",
    "x_train, x_test, y_train, y_test = model_selection.train_test_split(X,y, test_size = 0.4, shuffle=True,random_state=rs)\n",
    "x_test, x_valid, y_test, y_valid = model_selection.train_test_split(x_test,y_test, test_size = 0.5, shuffle=True,random_state=rs)\n",
    "\n",
    "clf = neighbors.KNeighborsClassifier(n_neighbors=14,p=1)\n",
    "clf.fit(x_train, y_train)\n",
    "y_pred = clf.predict(x_valid)\n",
    "print('Accuracy for KNN: '+str(metrics.accuracy_score(y_pred, y_valid)))\n",
    "\n",
    "clf = linear_model.LogisticRegression(C=20)\n",
    "clf.fit(x_train, y_train)\n",
    "y_pred = clf.predict(x_valid)\n",
    "print('Accuracy for LR: '+str(metrics.accuracy_score(y_valid,y_pred)))"
   ]
  },
  {
   "cell_type": "markdown",
   "metadata": {},
   "source": [
    "### 2. Binning"
   ]
  },
  {
   "cell_type": "markdown",
   "metadata": {},
   "source": [
    "#### - \"Age\" with equal bins:"
   ]
  },
  {
   "cell_type": "code",
   "execution_count": 66,
   "metadata": {},
   "outputs": [],
   "source": [
    "df7=pd.DataFrame(df4.values, columns=['age','employer type','educational level','marital status','job type','relationship status'\\\n",
    "                                     ,'ethnicity','sex','capital gains','capital losses','hours worked per week',\\\n",
    "                                    'country of birth','high income?','is_Divorced','is_Married-AF-spouse',\\\n",
    "                                      'is_Married-civ-spouse','is_Married-spouse-absent','is_Never-married','is_Separated',\\\n",
    "                                     'is_Widowed'])"
   ]
  },
  {
   "cell_type": "code",
   "execution_count": 67,
   "metadata": {},
   "outputs": [],
   "source": [
    "df7['age_binned']=pd.cut(df7.age,bins=5,labels=range(1,6))"
   ]
  },
  {
   "cell_type": "code",
   "execution_count": 68,
   "metadata": {},
   "outputs": [
    {
     "name": "stdout",
     "output_type": "stream",
     "text": [
      "Accuracy for KNN: 0.8637899262899262\n",
      "Accuracy for LR: 0.8447481572481572\n"
     ]
    }
   ],
   "source": [
    "X=df7.iloc[:,[2,8,9,10]+list(range(13,21))]\n",
    "X=X.values\n",
    "y=df7['high income?'].values\n",
    "rs = np.random.RandomState(seed=10)\n",
    "x_train, x_test, y_train, y_test = model_selection.train_test_split(X,y, test_size = 0.4, shuffle=True,random_state=rs)\n",
    "x_test, x_valid, y_test, y_valid = model_selection.train_test_split(x_test,y_test, test_size = 0.5, shuffle=True,random_state=rs)\n",
    "\n",
    "clf = neighbors.KNeighborsClassifier(n_neighbors=14,p=1)\n",
    "clf.fit(x_train, y_train)\n",
    "y_pred = clf.predict(x_valid)\n",
    "print('Accuracy for KNN: '+str(metrics.accuracy_score(y_pred, y_valid)))\n",
    "\n",
    "clf = linear_model.LogisticRegression(C=20)\n",
    "clf.fit(x_train, y_train)\n",
    "y_pred = clf.predict(x_valid)\n",
    "print('Accuracy for LR: '+str(metrics.accuracy_score(y_valid,y_pred)))"
   ]
  },
  {
   "cell_type": "markdown",
   "metadata": {},
   "source": [
    "#### -\"age\" with fixed bins"
   ]
  },
  {
   "cell_type": "code",
   "execution_count": 69,
   "metadata": {},
   "outputs": [],
   "source": [
    "df8=pd.DataFrame(df4.values, columns=['age','employer type','educational level','marital status','job type','relationship status'\\\n",
    "                                     ,'ethnicity','sex','capital gains','capital losses','hours worked per week',\\\n",
    "                                    'country of birth','high income?','is_Divorced','is_Married-AF-spouse',\\\n",
    "                                      'is_Married-civ-spouse','is_Married-spouse-absent','is_Never-married','is_Separated',\\\n",
    "                                     'is_Widowed'])"
   ]
  },
  {
   "cell_type": "code",
   "execution_count": 70,
   "metadata": {},
   "outputs": [],
   "source": [
    "df8['age_binned']=pd.cut(df8.age,bins=[16,25,35,45,55,66,90],labels=['Under 25','25-35','35-45','45-55','55-66','66+'])"
   ]
  },
  {
   "cell_type": "code",
   "execution_count": 71,
   "metadata": {},
   "outputs": [],
   "source": [
    "rank_mapping={'Under 25':1,'25-35':2,'35-45':3,'45-55':4,'55-66':5,'66+':6}\n",
    "df8['age_mapped']=df8['age_binned'].map(rank_mapping)"
   ]
  },
  {
   "cell_type": "code",
   "execution_count": 72,
   "metadata": {},
   "outputs": [
    {
     "name": "stdout",
     "output_type": "stream",
     "text": [
      "Accuracy for KNN: 0.8602579852579852\n",
      "Accuracy for LR: 0.8444410319410319\n"
     ]
    }
   ],
   "source": [
    "X=df8.iloc[:,[2,8,9,10]+list(range(13,20))+[21]]\n",
    "X=X.values\n",
    "y=df8['high income?'].values\n",
    "rs = np.random.RandomState(seed=10)\n",
    "x_train, x_test, y_train, y_test = model_selection.train_test_split(X,y, test_size = 0.4, shuffle=True,random_state=rs)\n",
    "x_test, x_valid, y_test, y_valid = model_selection.train_test_split(x_test,y_test, test_size = 0.5, shuffle=True,random_state=rs)\n",
    "\n",
    "clf = neighbors.KNeighborsClassifier(n_neighbors=14,p=1)\n",
    "clf.fit(x_train, y_train)\n",
    "y_pred = clf.predict(x_valid)\n",
    "print('Accuracy for KNN: '+str(metrics.accuracy_score(y_pred, y_valid)))\n",
    "\n",
    "clf = linear_model.LogisticRegression(C=20)\n",
    "clf.fit(x_train, y_train)\n",
    "y_pred = clf.predict(x_valid)\n",
    "print('Accuracy for LR: '+str(metrics.accuracy_score(y_valid,y_pred)))"
   ]
  },
  {
   "cell_type": "markdown",
   "metadata": {},
   "source": [
    "### 3. Rescaling"
   ]
  },
  {
   "cell_type": "markdown",
   "metadata": {},
   "source": [
    "#### -Normalisation"
   ]
  },
  {
   "cell_type": "code",
   "execution_count": 73,
   "metadata": {},
   "outputs": [],
   "source": [
    "df9=pd.DataFrame(df7.values, columns=['age','employer type','educational level','marital status','job type','relationship status'\\\n",
    "                                     ,'ethnicity','sex','capital gains','capital losses','hours worked per week',\\\n",
    "                                    'country of birth','high income?','is_Divorced','is_Married-AF-spouse',\\\n",
    "                                      'is_Married-civ-spouse','is_Married-spouse-absent','is_Never-married','is_Separated',\\\n",
    "                                     'is_Widowed','age_binned'])"
   ]
  },
  {
   "cell_type": "code",
   "execution_count": 74,
   "metadata": {},
   "outputs": [
    {
     "name": "stderr",
     "output_type": "stream",
     "text": [
      "C:\\Users\\Amine\\Anaconda3\\lib\\site-packages\\sklearn\\utils\\validation.py:475: DataConversionWarning: Data with input dtype object was converted to float64 by MinMaxScaler.\n",
      "  warnings.warn(msg, DataConversionWarning)\n",
      "C:\\Users\\Amine\\Anaconda3\\lib\\site-packages\\sklearn\\utils\\validation.py:475: DataConversionWarning: Data with input dtype object was converted to float64 by MinMaxScaler.\n",
      "  warnings.warn(msg, DataConversionWarning)\n",
      "C:\\Users\\Amine\\Anaconda3\\lib\\site-packages\\sklearn\\utils\\validation.py:475: DataConversionWarning: Data with input dtype object was converted to float64 by MinMaxScaler.\n",
      "  warnings.warn(msg, DataConversionWarning)\n",
      "C:\\Users\\Amine\\Anaconda3\\lib\\site-packages\\sklearn\\utils\\validation.py:475: DataConversionWarning: Data with input dtype object was converted to float64 by MinMaxScaler.\n",
      "  warnings.warn(msg, DataConversionWarning)\n",
      "C:\\Users\\Amine\\Anaconda3\\lib\\site-packages\\sklearn\\utils\\validation.py:475: DataConversionWarning: Data with input dtype object was converted to float64 by MinMaxScaler.\n",
      "  warnings.warn(msg, DataConversionWarning)\n"
     ]
    }
   ],
   "source": [
    "min_max_scaler = preprocessing.MinMaxScaler()\n",
    "df9['age_norm']=min_max_scaler.fit_transform(df9['age'].values.reshape(-1,1))\n",
    "df9['edu_norm']=min_max_scaler.fit_transform(df9['educational level'].values.reshape(-1,1))\n",
    "df9['cap_gain_norm']=min_max_scaler.fit_transform(df9['capital gains'].values.reshape(-1,1))\n",
    "df9['cap_loss_norm']=min_max_scaler.fit_transform(df9['capital losses'].values.reshape(-1,1))\n",
    "df9['hours_norm']=min_max_scaler.fit_transform(df9['hours worked per week'].values.reshape(-1,1))"
   ]
  },
  {
   "cell_type": "code",
   "execution_count": 75,
   "metadata": {},
   "outputs": [
    {
     "name": "stdout",
     "output_type": "stream",
     "text": [
      "Accuracy for KNN: 0.8378378378378378\n",
      "Accuracy for LR: 0.8447481572481572\n"
     ]
    }
   ],
   "source": [
    "X=df9.iloc[:,list(range(13,20))+list(range(21,26))]\n",
    "X=X.values\n",
    "y=df9['high income?'].values\n",
    "rs = np.random.RandomState(seed=10)\n",
    "x_train, x_test, y_train, y_test = model_selection.train_test_split(X,y, test_size = 0.4, shuffle=True,random_state=rs)\n",
    "x_test, x_valid, y_test, y_valid = model_selection.train_test_split(x_test,y_test, test_size = 0.5, shuffle=True,random_state=rs)\n",
    "\n",
    "clf = neighbors.KNeighborsClassifier(n_neighbors=14,p=1)\n",
    "clf.fit(x_train, y_train)\n",
    "y_pred = clf.predict(x_valid)\n",
    "print('Accuracy for KNN: '+str(metrics.accuracy_score(y_pred, y_valid)))\n",
    "\n",
    "clf = linear_model.LogisticRegression(C=20)\n",
    "clf.fit(x_train, y_train)\n",
    "y_pred = clf.predict(x_valid)\n",
    "print('Accuracy for LR: '+str(metrics.accuracy_score(y_valid,y_pred)))"
   ]
  },
  {
   "cell_type": "markdown",
   "metadata": {},
   "source": [
    "#### -Log transformation on age"
   ]
  },
  {
   "cell_type": "code",
   "execution_count": 76,
   "metadata": {},
   "outputs": [],
   "source": [
    "df10=pd.DataFrame(df7.values, columns=['age','employer type','educational level','marital status','job type','relationship status'\\\n",
    "                                     ,'ethnicity','sex','capital gains','capital losses','hours worked per week',\\\n",
    "                                    'country of birth','high income?','is_Divorced','is_Married-AF-spouse',\\\n",
    "                                      'is_Married-civ-spouse','is_Married-spouse-absent','is_Never-married','is_Separated',\\\n",
    "                                     'is_Widowed','age_binned'])"
   ]
  },
  {
   "cell_type": "code",
   "execution_count": 77,
   "metadata": {},
   "outputs": [],
   "source": [
    "def log_10(x):\n",
    "        return np.log10(x)\n",
    "df10['age_log']=log_10(list(df10['age']))"
   ]
  },
  {
   "cell_type": "code",
   "execution_count": 78,
   "metadata": {},
   "outputs": [
    {
     "name": "stderr",
     "output_type": "stream",
     "text": [
      "C:\\Users\\Amine\\Anaconda3\\lib\\site-packages\\scipy\\stats\\stats.py:1713: FutureWarning: Using a non-tuple sequence for multidimensional indexing is deprecated; use `arr[tuple(seq)]` instead of `arr[seq]`. In the future this will be interpreted as an array index, `arr[np.array(seq)]`, which will result either in an error or a different result.\n",
      "  return np.add.reduce(sorted[indexer] * weights, axis=axis) / sumval\n"
     ]
    },
    {
     "data": {
      "text/plain": [
       "Text(0.5,1,'Histogram showing age_log distribution')"
      ]
     },
     "execution_count": 78,
     "metadata": {},
     "output_type": "execute_result"
    },
    {
     "data": {
      "image/png": "[encoded data removed]",
      "text/plain": [
       "<Figure size 576x360 with 1 Axes>"
      ]
     },
     "metadata": {
      "needs_background": "light"
     },
     "output_type": "display_data"
    }
   ],
   "source": [
    "plt.figure(figsize=(8,5))\n",
    "sns.distplot(df10['age_log'],kde=True,bins=8,color='b')\n",
    "plt.title('Histogram showing age_log distribution',fontsize=15)"
   ]
  },
  {
   "cell_type": "markdown",
   "metadata": {},
   "source": [
    "#### -Log transformation on capital gains and capital losses"
   ]
  },
  {
   "cell_type": "code",
   "execution_count": 79,
   "metadata": {},
   "outputs": [],
   "source": [
    "df11=pd.DataFrame(df7.values, columns=['age','employer type','educational level','marital status','job type','relationship status'\\\n",
    "                                     ,'ethnicity','sex','capital gains','capital losses','hours worked per week',\\\n",
    "                                    'country of birth','high income?','is_Divorced','is_Married-AF-spouse',\\\n",
    "                                      'is_Married-civ-spouse','is_Married-spouse-absent','is_Never-married','is_Separated',\\\n",
    "                                     'is_Widowed','age_binned'])"
   ]
  },
  {
   "cell_type": "code",
   "execution_count": 80,
   "metadata": {},
   "outputs": [],
   "source": [
    "for i in df11.index:\n",
    "    if df11.loc[i,'capital gains']==0:\n",
    "        df11.loc[i,'capital gains_log']=0\n",
    "    else:\n",
    "        df11.loc[i,'capital gains_log']=np.log10(df11.loc[i,'capital gains'])\n",
    "    if df11.loc[i,'capital losses']==0:\n",
    "        df11.loc[i,'capital losses_log']=0\n",
    "    else:\n",
    "        df11.loc[i,'capital losses_log']=np.log10(df11.loc[i,'capital losses'])"
   ]
  },
  {
   "cell_type": "code",
   "execution_count": 81,
   "metadata": {},
   "outputs": [
    {
     "data": {
      "image/png": "[encoded data removed]",
      "text/plain": [
       "<Figure size 1152x360 with 2 Axes>"
      ]
     },
     "metadata": {
      "needs_background": "light"
     },
     "output_type": "display_data"
    }
   ],
   "source": [
    "plt.figure(figsize=(16,5))\n",
    "fig = plt.subplot(121)\n",
    "sns.distplot(df11['capital gains_log'],kde=False,bins=8,color='b')\n",
    "plt.title('Histogram showing capital gains_log distribution',fontsize=15)\n",
    "fig = plt.subplot(122)\n",
    "sns.distplot(df11['capital losses_log'],kde=False,bins=8,color='b')\n",
    "plt.title('Histogram showing capital losses_log distribution',fontsize=15)\n",
    "plt.show()\n"
   ]
  },
  {
   "cell_type": "markdown",
   "metadata": {},
   "source": [
    "### 3. Retired? as indicator variable"
   ]
  },
  {
   "cell_type": "code",
   "execution_count": 82,
   "metadata": {},
   "outputs": [],
   "source": [
    "df12=pd.DataFrame(df7.values, columns=['age','employer type','educational level','marital status','job type','relationship status'\\\n",
    "                                     ,'ethnicity','sex','capital gains','capital losses','hours worked per week',\\\n",
    "                                    'country of birth','high income?','is_Divorced','is_Married-AF-spouse',\\\n",
    "                                      'is_Married-civ-spouse','is_Married-spouse-absent','is_Never-married','is_Separated',\\\n",
    "                                     'is_Widowed','age_binned'])"
   ]
  },
  {
   "cell_type": "code",
   "execution_count": 83,
   "metadata": {},
   "outputs": [],
   "source": [
    "df12['Retired?']=np.where(df12['age']>66,1,0)"
   ]
  },
  {
   "cell_type": "code",
   "execution_count": 84,
   "metadata": {},
   "outputs": [
    {
     "name": "stdout",
     "output_type": "stream",
     "text": [
      "Accuracy for KNN, so far:0.8644041769041769\n",
      "Accuracy for LR :0.8450552825552825\n"
     ]
    }
   ],
   "source": [
    "X=df12.iloc[:,[2,8,9,10]+list(range(13,22))]\n",
    "X=X.values\n",
    "y=df12['high income?'].values\n",
    "rs = np.random.RandomState(seed=10)\n",
    "x_train, x_test, y_train, y_test = model_selection.train_test_split(X,y, test_size = 0.4, shuffle=True,random_state=rs)\n",
    "x_test, x_valid, y_test, y_valid = model_selection.train_test_split(x_test,y_test, test_size = 0.5, shuffle=True,random_state=rs)\n",
    "\n",
    "clf = neighbors.KNeighborsClassifier(n_neighbors=14,p=1)\n",
    "clf.fit(x_train, y_train)\n",
    "y_pred = clf.predict(x_valid)\n",
    "print('Accuracy for KNN, so far:'+str(metrics.accuracy_score(y_pred, y_valid)))\n",
    "\n",
    "clf = linear_model.LogisticRegression(C=20)\n",
    "clf.fit(x_train, y_train)\n",
    "y_pred = clf.predict(x_valid)\n",
    "print('Accuracy for LR :'+str(metrics.accuracy_score(y_valid,y_pred)))"
   ]
  },
  {
   "cell_type": "markdown",
   "metadata": {},
   "source": [
    "# 5. Results (Testing data)"
   ]
  },
  {
   "cell_type": "code",
   "execution_count": 89,
   "metadata": {},
   "outputs": [
    {
     "name": "stdout",
     "output_type": "stream",
     "text": [
      "Accuracy on testing data is:0.8585687960687961\n"
     ]
    }
   ],
   "source": [
    "X=df12.iloc[:,[2,8,9,10]+list(range(13,22))]\n",
    "X=X.values\n",
    "y=df12['high income?'].values\n",
    "rs = np.random.RandomState(seed=10)\n",
    "x_train, x_test, y_train, y_test = model_selection.train_test_split(X,y, test_size = 0.4, shuffle=True,random_state=rs)\n",
    "x_test, x_valid, y_test, y_valid = model_selection.train_test_split(x_test,y_test, test_size = 0.5, shuffle=True,random_state=rs)\n",
    "\n",
    "clf = neighbors.KNeighborsClassifier(n_neighbors=14,p=1)\n",
    "clf.fit(x_train, y_train)\n",
    "y_pred = clf.predict(x_test)\n",
    "print('Accuracy on testing data is:'+str(metrics.accuracy_score(y_pred, y_test)))"
   ]
  }
 ],
 "metadata": {
  "kernelspec": {
   "display_name": "Python 3",
   "language": "python",
   "name": "python3"
  },
  "language_info": {
   "codemirror_mode": {
    "name": "ipython",
    "version": 3
   },
   "file_extension": ".py",
   "mimetype": "text/x-python",
   "name": "python",
   "nbconvert_exporter": "python",
   "pygments_lexer": "ipython3",
   "version": "3.7.0"
  }
 },
 "nbformat": 4,
 "nbformat_minor": 2
}
